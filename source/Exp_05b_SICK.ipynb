{
 "cells": [
  {
   "cell_type": "markdown",
   "metadata": {},
   "source": [
    "# Semantic Evaluation - Experiment 05"
   ]
  },
  {
   "cell_type": "markdown",
   "metadata": {
    "toc": true
   },
   "source": [
    "## Summary\n",
    "<div class=\"toc\"><ul class=\"toc-item\"><li><span><a href=\"#Introduction\" data-toc-modified-id=\"Introduction-1\"><span class=\"toc-item-num\">1&nbsp;&nbsp;</span>Introduction</a></span><ul class=\"toc-item\"><li><span><a href=\"#Libraries\" data-toc-modified-id=\"Libraries-1.1\"><span class=\"toc-item-num\">1.1&nbsp;&nbsp;</span>Libraries</a></span></li><li><span><a href=\"#Definitions\" data-toc-modified-id=\"Definitions-1.2\"><span class=\"toc-item-num\">1.2&nbsp;&nbsp;</span>Definitions</a></span></li></ul></li><li><span><a href=\"#DataPrep\" data-toc-modified-id=\"DataPrep-2\"><span class=\"toc-item-num\">2&nbsp;&nbsp;</span>DataPrep</a></span><ul class=\"toc-item\"><li><span><a href=\"#Importing-SICK-dataset\" data-toc-modified-id=\"Importing-SICK-dataset-2.1\"><span class=\"toc-item-num\">2.1&nbsp;&nbsp;</span>Importing SICK dataset</a></span><ul class=\"toc-item\"><li><span><a href=\"#Sampling-N-samples-labeled-as-&quot;contradiction&quot;-for-exploratory-analysis:\" data-toc-modified-id=\"Sampling-N-samples-labeled-as-&quot;contradiction&quot;-for-exploratory-analysis:-2.1.1\"><span class=\"toc-item-num\">2.1.1&nbsp;&nbsp;</span>Sampling N samples labeled as \"contradiction\" for exploratory analysis:</a></span></li></ul></li><li><span><a href=\"#Importing-&quot;The-Glasgow-Norms&quot;-dataset\" data-toc-modified-id=\"Importing-&quot;The-Glasgow-Norms&quot;-dataset-2.2\"><span class=\"toc-item-num\">2.2&nbsp;&nbsp;</span>Importing \"The Glasgow Norms\" dataset</a></span><ul class=\"toc-item\"><li><span><a href=\"#DataPrep:-adjusting-the-column/feature-label\" data-toc-modified-id=\"DataPrep:-adjusting-the-column/feature-label-2.2.1\"><span class=\"toc-item-num\">2.2.1&nbsp;&nbsp;</span>DataPrep: adjusting the column/feature label</a></span></li></ul></li><li><span><a href=\"#[FAILED]-Tentativa-de-visualizar-no-TensorBoard\" data-toc-modified-id=\"[FAILED]-Tentativa-de-visualizar-no-TensorBoard-2.3\"><span class=\"toc-item-num\">2.3&nbsp;&nbsp;</span>[FAILED] Tentativa de visualizar no TensorBoard</a></span><ul class=\"toc-item\"><li><span><a href=\"#Trying-the-same-thing-above,-but-with-fewer-instances:\" data-toc-modified-id=\"Trying-the-same-thing-above,-but-with-fewer-instances:-2.3.1\"><span class=\"toc-item-num\">2.3.1&nbsp;&nbsp;</span>Trying the same thing above, but with fewer instances:</a></span></li></ul></li><li><span><a href=\"#Selecionando-apenas-colunas-com-_M-e-_SD\" data-toc-modified-id=\"Selecionando-apenas-colunas-com-_M-e-_SD-2.4\"><span class=\"toc-item-num\">2.4&nbsp;&nbsp;</span>Selecionando apenas colunas com _M e _SD</a></span></li><li><span><a href=\"#Buscando-frases-do-dataset-SICK-que-contenham-uma-palavra-específica\" data-toc-modified-id=\"Buscando-frases-do-dataset-SICK-que-contenham-uma-palavra-específica-2.5\"><span class=\"toc-item-num\">2.5&nbsp;&nbsp;</span>Buscando frases do dataset SICK que contenham uma palavra específica</a></span></li><li><span><a href=\"#Trying-to-visualize-the-features-with-confidence-interval:\" data-toc-modified-id=\"Trying-to-visualize-the-features-with-confidence-interval:-2.6\"><span class=\"toc-item-num\">2.6&nbsp;&nbsp;</span>Trying to visualize the features with confidence interval:</a></span><ul class=\"toc-item\"><li><span><a href=\"#Finding-an-appropriate-chart-design:\" data-toc-modified-id=\"Finding-an-appropriate-chart-design:-2.6.1\"><span class=\"toc-item-num\">2.6.1&nbsp;&nbsp;</span>Finding an appropriate chart design:</a></span></li><li><span><a href=\"#Creating-a-method-to-visualize-any-word:\" data-toc-modified-id=\"Creating-a-method-to-visualize-any-word:-2.6.2\"><span class=\"toc-item-num\">2.6.2&nbsp;&nbsp;</span>Creating a method to visualize any word:</a></span></li></ul></li><li><span><a href=\"#Experimento-com-Prof.-Heitor\" data-toc-modified-id=\"Experimento-com-Prof.-Heitor-2.7\"><span class=\"toc-item-num\">2.7&nbsp;&nbsp;</span>Experimento com Prof. Heitor</a></span><ul class=\"toc-item\"><li><span><a href=\"#Definição-das-frases\" data-toc-modified-id=\"Definição-das-frases-2.7.1\"><span class=\"toc-item-num\">2.7.1&nbsp;&nbsp;</span>Definição das frases</a></span></li></ul></li><li><span><a href=\"#Medida-de-proximidade-semântica\" data-toc-modified-id=\"Medida-de-proximidade-semântica-2.8\"><span class=\"toc-item-num\">2.8&nbsp;&nbsp;</span>Medida de proximidade semântica</a></span><ul class=\"toc-item\"><li><span><a href=\"#Calculando-a-distância-entre-os-vetores:\" data-toc-modified-id=\"Calculando-a-distância-entre-os-vetores:-2.8.1\"><span class=\"toc-item-num\">2.8.1&nbsp;&nbsp;</span>Calculando a distância entre os vetores:</a></span></li></ul></li></ul></li><li><span><a href=\"#Análise-sintática-(POS---Part-Of-Speech)\" data-toc-modified-id=\"Análise-sintática-(POS---Part-Of-Speech)-3\"><span class=\"toc-item-num\">3&nbsp;&nbsp;</span>Análise sintática (POS - Part Of Speech)</a></span></li><li><span><a href=\"#2022.04.28---Discussão-com-Andrei\" data-toc-modified-id=\"2022.04.28---Discussão-com-Andrei-4\"><span class=\"toc-item-num\">4&nbsp;&nbsp;</span>2022.04.28 - Discussão com Andrei</a></span><ul class=\"toc-item\"><li><span><a href=\"#Qual-é-o-problema?\" data-toc-modified-id=\"Qual-é-o-problema?-4.1\"><span class=\"toc-item-num\">4.1&nbsp;&nbsp;</span>Qual é o problema?</a></span><ul class=\"toc-item\"><li><span><a href=\"#Semantica:\" data-toc-modified-id=\"Semantica:-4.1.1\"><span class=\"toc-item-num\">4.1.1&nbsp;&nbsp;</span>Semantica:</a></span></li><li><span><a href=\"#Objetivo:-questionamentos-do-Andrei\" data-toc-modified-id=\"Objetivo:-questionamentos-do-Andrei-4.1.2\"><span class=\"toc-item-num\">4.1.2&nbsp;&nbsp;</span><strong>Objetivo:</strong> questionamentos do Andrei</a></span></li></ul></li><li><span><a href=\"#Segundo-experimento:\" data-toc-modified-id=\"Segundo-experimento:-4.2\"><span class=\"toc-item-num\">4.2&nbsp;&nbsp;</span>Segundo experimento:</a></span></li><li><span><a href=\"#The-cat:\" data-toc-modified-id=\"The-cat:-4.3\"><span class=\"toc-item-num\">4.3&nbsp;&nbsp;</span>The cat:</a></span></li><li><span><a href=\"#Man-sweeping\" data-toc-modified-id=\"Man-sweeping-4.4\"><span class=\"toc-item-num\">4.4&nbsp;&nbsp;</span>Man sweeping</a></span></li><li><span><a href=\"#Man-driving\" data-toc-modified-id=\"Man-driving-4.5\"><span class=\"toc-item-num\">4.5&nbsp;&nbsp;</span>Man driving</a></span></li></ul></li><li><span><a href=\"#Next-steps\" data-toc-modified-id=\"Next-steps-5\"><span class=\"toc-item-num\">5&nbsp;&nbsp;</span>Next steps</a></span></li></ul></div>"
   ]
  },
  {
   "cell_type": "markdown",
   "metadata": {},
   "source": [
    "## Introduction"
   ]
  },
  {
   "cell_type": "markdown",
   "metadata": {},
   "source": [
    "### Libraries"
   ]
  },
  {
   "cell_type": "code",
   "execution_count": 5,
   "metadata": {
    "ExecuteTime": {
     "end_time": "2022-11-12T22:37:14.251208Z",
     "start_time": "2022-11-12T22:37:14.073574Z"
    }
   },
   "outputs": [],
   "source": [
    "## Data analysis packages:\n",
    "import pandas as pd\n",
    "import numpy as np\n",
    "from math import isnan  #Verifies if a given value is numerical."
   ]
  },
  {
   "cell_type": "code",
   "execution_count": 6,
   "metadata": {
    "ExecuteTime": {
     "end_time": "2022-11-12T22:37:15.470110Z",
     "start_time": "2022-11-12T22:37:14.895488Z"
    }
   },
   "outputs": [],
   "source": [
    "## Visualization packages:\n",
    "import seaborn as sns\n",
    "import matplotlib.pyplot as plt\n",
    "%matplotlib inline"
   ]
  },
  {
   "cell_type": "markdown",
   "metadata": {},
   "source": [
    "### Definitions"
   ]
  },
  {
   "cell_type": "code",
   "execution_count": 7,
   "metadata": {
    "ExecuteTime": {
     "end_time": "2022-04-28T22:15:12.656866Z",
     "start_time": "2022-04-28T22:15:12.612272Z"
    }
   },
   "outputs": [],
   "source": [
    "## Forcing Pandas to display any number of elements\n",
    "pd.set_option('display.max_columns', None)\n",
    "pd.set_option('display.max_rows', 50)\n",
    "pd.set_option('display.max_seq_items', None)\n",
    "pd.set_option('display.width', 2000)\n",
    "pd.set_option('display.max_colwidth', None)"
   ]
  },
  {
   "cell_type": "code",
   "execution_count": 8,
   "metadata": {},
   "outputs": [],
   "source": [
    "## Based on: https://stackoverflow.com/questions/25351968/how-can-i-display-full-non-truncated-dataframe-information-in-html-when-conver\n",
    "def print_full(x):\n",
    "    pd.set_option('display.max_rows', None)\n",
    "    pd.set_option('display.max_columns', None)\n",
    "    pd.set_option('display.width', 2000)\n",
    "    pd.set_option('display.float_format', '{:20,.2f}'.format)\n",
    "    pd.set_option('display.max_colwidth', None)\n",
    "    print(x)\n",
    "    pd.reset_option('display.max_rows')\n",
    "    pd.reset_option('display.max_columns')\n",
    "    pd.reset_option('display.width')\n",
    "    pd.reset_option('display.float_format')\n",
    "    pd.reset_option('display.max_colwidth')"
   ]
  },
  {
   "cell_type": "markdown",
   "metadata": {},
   "source": [
    "## DataPrep"
   ]
  },
  {
   "cell_type": "markdown",
   "metadata": {},
   "source": [
    "### Importing SICK dataset\n",
    "SICK (Sentences Involving Compositional Knowledge) data set, from University of Trento and available at http://clic.cimec.unitn.it/composes/sick/, \"consists of 10,000 English sentence pairs, built starting from two existing paraphrase sets: the [8K ImageFlickr data set](http://nlp.cs.illinois.edu/HockenmaierGroup/data.html) and the [SEMEVAL-2012 Semantic Textual Similarity Video Descriptions data set](http://www.cs.york.ac.uk/semeval-2012/task6/index.php?id=data). Each sentence pair is annotated for relatedness in meaning and for the entailment relation between the two elements.\""
   ]
  },
  {
   "cell_type": "markdown",
   "metadata": {},
   "source": [
    "Fields description:\n",
    "- pair_ID: sentence pair ID\n",
    "\n",
    "- sentence_A: sentence A\n",
    "\n",
    "- sentence_B: sentence B\n",
    "\n",
    "- entailment_label: textual entailment gold label (NEUTRAL, ENTAILMENT, or CONTRADICTION)\n",
    "\n",
    "- relatedness_score: semantic relatedness gold score (on a 1-5 continuous scale)\n",
    "\n",
    "- entailment_AB: entailment for the A-B order (A_neutral_B, A_entails_B, or A_contradicts_B)\n",
    "\n",
    "- entailment_BA: entailment for the B-A order (B_neutral_A, B_entails_A, or B_contradicts_A)\n",
    "\n",
    "- sentence_A_original: original sentence from which sentence A is derived\n",
    "\n",
    "- sentence_B_original: original sentence from which sentence B is derived\n",
    "\n",
    "- sentence_A_dataset: dataset from which the original sentence A was extracted (FLICKR vs. SEMEVAL)\n",
    "\n",
    "- sentence_B_dataset: dataset from which the original sentence B was extracted (FLICKR vs. SEMEVAL)\n",
    "\n",
    "- SemEval_set: set including the sentence pair in SemEval 2014 Task 1 (TRIAL, TRAIN, or TEST)\n"
   ]
  },
  {
   "cell_type": "code",
   "execution_count": 9,
   "metadata": {
    "ExecuteTime": {
     "end_time": "2022-04-28T22:33:27.007244Z",
     "start_time": "2022-04-28T22:33:26.902285Z"
    }
   },
   "outputs": [
    {
     "name": "stdout",
     "output_type": "stream",
     "text": [
      "<class 'pandas.core.frame.DataFrame'>\n",
      "RangeIndex: 9840 entries, 0 to 9839\n",
      "Data columns (total 12 columns):\n",
      " #   Column               Non-Null Count  Dtype  \n",
      "---  ------               --------------  -----  \n",
      " 0   pair_ID              9840 non-null   int64  \n",
      " 1   sentence_A           9840 non-null   object \n",
      " 2   sentence_B           9840 non-null   object \n",
      " 3   entailment_label     9840 non-null   object \n",
      " 4   relatedness_score    9840 non-null   float64\n",
      " 5   entailment_AB        9840 non-null   object \n",
      " 6   entailment_BA        9840 non-null   object \n",
      " 7   sentence_A_original  9840 non-null   object \n",
      " 8   sentence_B_original  9840 non-null   object \n",
      " 9   sentence_A_dataset   9840 non-null   object \n",
      " 10  sentence_B_dataset   9840 non-null   object \n",
      " 11  SemEval_set          9840 non-null   object \n",
      "dtypes: float64(1), int64(1), object(10)\n",
      "memory usage: 922.6+ KB\n"
     ]
    }
   ],
   "source": [
    "## Reading the dataset file:\n",
    "data_sick = pd.read_table('../data/dataset_SICK/SICK/SICK.txt')\n",
    "## Gathering general information from the dataset (it is already prepared for analysis)\n",
    "data_sick.info()"
   ]
  },
  {
   "cell_type": "code",
   "execution_count": 10,
   "metadata": {
    "ExecuteTime": {
     "end_time": "2022-04-28T22:33:28.671210Z",
     "start_time": "2022-04-28T22:33:28.635086Z"
    }
   },
   "outputs": [
    {
     "data": {
      "text/html": [
       "<div>\n",
       "<style scoped>\n",
       "    .dataframe tbody tr th:only-of-type {\n",
       "        vertical-align: middle;\n",
       "    }\n",
       "\n",
       "    .dataframe tbody tr th {\n",
       "        vertical-align: top;\n",
       "    }\n",
       "\n",
       "    .dataframe thead th {\n",
       "        text-align: right;\n",
       "    }\n",
       "</style>\n",
       "<table border=\"1\" class=\"dataframe\">\n",
       "  <thead>\n",
       "    <tr style=\"text-align: right;\">\n",
       "      <th></th>\n",
       "      <th>entailment_label</th>\n",
       "      <th>pair_ID</th>\n",
       "    </tr>\n",
       "  </thead>\n",
       "  <tbody>\n",
       "    <tr>\n",
       "      <th>0</th>\n",
       "      <td>CONTRADICTION</td>\n",
       "      <td>1424</td>\n",
       "    </tr>\n",
       "    <tr>\n",
       "      <th>1</th>\n",
       "      <td>ENTAILMENT</td>\n",
       "      <td>2821</td>\n",
       "    </tr>\n",
       "    <tr>\n",
       "      <th>2</th>\n",
       "      <td>NEUTRAL</td>\n",
       "      <td>5595</td>\n",
       "    </tr>\n",
       "  </tbody>\n",
       "</table>\n",
       "</div>"
      ],
      "text/plain": [
       "  entailment_label  pair_ID\n",
       "0    CONTRADICTION     1424\n",
       "1       ENTAILMENT     2821\n",
       "2          NEUTRAL     5595"
      ]
     },
     "execution_count": 10,
     "metadata": {},
     "output_type": "execute_result"
    }
   ],
   "source": [
    "## Grouping by entailment label:\n",
    "data_sick.groupby(['entailment_label'])['pair_ID'].agg('count').reset_index()"
   ]
  },
  {
   "cell_type": "markdown",
   "metadata": {},
   "source": [
    "----\n",
    "#### Sampling N samples labeled as \"contradiction\" for exploratory analysis:\n",
    "*A random state is set to allow reproducibility.*"
   ]
  },
  {
   "cell_type": "code",
   "execution_count": 11,
   "metadata": {
    "ExecuteTime": {
     "end_time": "2022-04-28T22:33:30.836391Z",
     "start_time": "2022-04-28T22:33:30.833539Z"
    }
   },
   "outputs": [],
   "source": [
    "## Defining the number of samples:\n",
    "N_sick = 5\n",
    "## Choosing arbitrarily a random state:\n",
    "random_state = 98"
   ]
  },
  {
   "cell_type": "code",
   "execution_count": 12,
   "metadata": {
    "ExecuteTime": {
     "end_time": "2022-04-28T22:33:31.590354Z",
     "start_time": "2022-04-28T22:33:31.572300Z"
    }
   },
   "outputs": [],
   "source": [
    "## Sampling the SICK data labeled as \"contradiction\":\n",
    "sample_sick = data_sick[data_sick['entailment_label'] == 'CONTRADICTION'].sample(n=N_sick, \n",
    "                                                                                 random_state=random_state)"
   ]
  },
  {
   "cell_type": "code",
   "execution_count": 13,
   "metadata": {},
   "outputs": [
    {
     "data": {
      "text/html": [
       "<div>\n",
       "<style scoped>\n",
       "    .dataframe tbody tr th:only-of-type {\n",
       "        vertical-align: middle;\n",
       "    }\n",
       "\n",
       "    .dataframe tbody tr th {\n",
       "        vertical-align: top;\n",
       "    }\n",
       "\n",
       "    .dataframe thead th {\n",
       "        text-align: right;\n",
       "    }\n",
       "</style>\n",
       "<table border=\"1\" class=\"dataframe\">\n",
       "  <thead>\n",
       "    <tr style=\"text-align: right;\">\n",
       "      <th></th>\n",
       "      <th>pair_ID</th>\n",
       "      <th>sentence_A</th>\n",
       "      <th>sentence_B</th>\n",
       "      <th>entailment_label</th>\n",
       "      <th>relatedness_score</th>\n",
       "      <th>entailment_AB</th>\n",
       "      <th>entailment_BA</th>\n",
       "      <th>sentence_A_original</th>\n",
       "      <th>sentence_B_original</th>\n",
       "      <th>sentence_A_dataset</th>\n",
       "      <th>sentence_B_dataset</th>\n",
       "      <th>SemEval_set</th>\n",
       "    </tr>\n",
       "  </thead>\n",
       "  <tbody>\n",
       "    <tr>\n",
       "      <th>591</th>\n",
       "      <td>592</td>\n",
       "      <td>A woman is taking off a cloak, which is very large, and revealing an extravagant dress</td>\n",
       "      <td>A woman is putting on a cloak, which is very large, and concealing an extravagant dress</td>\n",
       "      <td>CONTRADICTION</td>\n",
       "      <td>3.5</td>\n",
       "      <td>A_contradicts_B</td>\n",
       "      <td>B_contradicts_A</td>\n",
       "      <td>A woman taking off a large cloak revealing a extravagant dress</td>\n",
       "      <td>A woman taking off a large cloak revealing a extravagant dress</td>\n",
       "      <td>FLICKR</td>\n",
       "      <td>FLICKR</td>\n",
       "      <td>TRIAL</td>\n",
       "    </tr>\n",
       "    <tr>\n",
       "      <th>9483</th>\n",
       "      <td>9643</td>\n",
       "      <td>A brown and white dog is running through the river</td>\n",
       "      <td>A brown and white dog is not running through the river</td>\n",
       "      <td>CONTRADICTION</td>\n",
       "      <td>3.6</td>\n",
       "      <td>A_contradicts_B</td>\n",
       "      <td>B_contradicts_A</td>\n",
       "      <td>a brown and white dog is running through the river</td>\n",
       "      <td>a brown and white dog is running through the river</td>\n",
       "      <td>FLICKR</td>\n",
       "      <td>FLICKR</td>\n",
       "      <td>TRAIN</td>\n",
       "    </tr>\n",
       "    <tr>\n",
       "      <th>4797</th>\n",
       "      <td>4921</td>\n",
       "      <td>There is no man playing a guitar</td>\n",
       "      <td>A man is singing and playing a guitar</td>\n",
       "      <td>CONTRADICTION</td>\n",
       "      <td>4.1</td>\n",
       "      <td>A_contradicts_B</td>\n",
       "      <td>B_contradicts_A</td>\n",
       "      <td>a man is singing and playing a guitar</td>\n",
       "      <td>a man is playing a guitar</td>\n",
       "      <td>SEMEVAL</td>\n",
       "      <td>SEMEVAL</td>\n",
       "      <td>TRAIN</td>\n",
       "    </tr>\n",
       "    <tr>\n",
       "      <th>1569</th>\n",
       "      <td>1590</td>\n",
       "      <td>The chef is carefully drying the oil from the pan</td>\n",
       "      <td>The chef is carefully pouring some oil into a pan</td>\n",
       "      <td>CONTRADICTION</td>\n",
       "      <td>3.5</td>\n",
       "      <td>A_contradicts_B</td>\n",
       "      <td>B_contradicts_A</td>\n",
       "      <td>The chef pours oil in the pan.</td>\n",
       "      <td>The chef pours oil in the pan.</td>\n",
       "      <td>SEMEVAL</td>\n",
       "      <td>SEMEVAL</td>\n",
       "      <td>TEST</td>\n",
       "    </tr>\n",
       "    <tr>\n",
       "      <th>4739</th>\n",
       "      <td>4861</td>\n",
       "      <td>A man is not dancing</td>\n",
       "      <td>A man is dancing</td>\n",
       "      <td>CONTRADICTION</td>\n",
       "      <td>3.8</td>\n",
       "      <td>A_contradicts_B</td>\n",
       "      <td>B_contradicts_A</td>\n",
       "      <td>a man is dancing</td>\n",
       "      <td>a man is dancing</td>\n",
       "      <td>SEMEVAL</td>\n",
       "      <td>SEMEVAL</td>\n",
       "      <td>TEST</td>\n",
       "    </tr>\n",
       "  </tbody>\n",
       "</table>\n",
       "</div>"
      ],
      "text/plain": [
       "      pair_ID                                                                              sentence_A                                                                               sentence_B entailment_label  relatedness_score    entailment_AB    entailment_BA                                             sentence_A_original                                             sentence_B_original sentence_A_dataset sentence_B_dataset SemEval_set\n",
       "591       592  A woman is taking off a cloak, which is very large, and revealing an extravagant dress  A woman is putting on a cloak, which is very large, and concealing an extravagant dress    CONTRADICTION                3.5  A_contradicts_B  B_contradicts_A  A woman taking off a large cloak revealing a extravagant dress  A woman taking off a large cloak revealing a extravagant dress             FLICKR             FLICKR       TRIAL\n",
       "9483     9643                                      A brown and white dog is running through the river                                   A brown and white dog is not running through the river    CONTRADICTION                3.6  A_contradicts_B  B_contradicts_A              a brown and white dog is running through the river              a brown and white dog is running through the river             FLICKR             FLICKR       TRAIN\n",
       "4797     4921                                                        There is no man playing a guitar                                                    A man is singing and playing a guitar    CONTRADICTION                4.1  A_contradicts_B  B_contradicts_A                           a man is singing and playing a guitar                                       a man is playing a guitar            SEMEVAL            SEMEVAL       TRAIN\n",
       "1569     1590                                       The chef is carefully drying the oil from the pan                                        The chef is carefully pouring some oil into a pan    CONTRADICTION                3.5  A_contradicts_B  B_contradicts_A                                  The chef pours oil in the pan.                                  The chef pours oil in the pan.            SEMEVAL            SEMEVAL        TEST\n",
       "4739     4861                                                                    A man is not dancing                                                                         A man is dancing    CONTRADICTION                3.8  A_contradicts_B  B_contradicts_A                                                a man is dancing                                                a man is dancing            SEMEVAL            SEMEVAL        TEST"
      ]
     },
     "execution_count": 13,
     "metadata": {},
     "output_type": "execute_result"
    }
   ],
   "source": [
    "sample_sick"
   ]
  },
  {
   "cell_type": "code",
   "execution_count": null,
   "metadata": {},
   "outputs": [],
   "source": []
  },
  {
   "cell_type": "markdown",
   "metadata": {},
   "source": [
    "What is the \"relatedness score\" variance?  \n",
    "> From 1 to 5."
   ]
  },
  {
   "cell_type": "code",
   "execution_count": 14,
   "metadata": {},
   "outputs": [
    {
     "data": {
      "text/plain": [
       "count    9840.000000\n",
       "mean        3.525636\n",
       "std         1.017050\n",
       "min         1.000000\n",
       "25%         3.000000\n",
       "50%         3.600000\n",
       "75%         4.300000\n",
       "max         5.000000\n",
       "Name: relatedness_score, dtype: float64"
      ]
     },
     "execution_count": 14,
     "metadata": {},
     "output_type": "execute_result"
    }
   ],
   "source": [
    "data_sick.relatedness_score.describe()"
   ]
  },
  {
   "cell_type": "code",
   "execution_count": null,
   "metadata": {},
   "outputs": [],
   "source": []
  },
  {
   "cell_type": "markdown",
   "metadata": {},
   "source": [
    "-----\n",
    "### Buscando frases do dataset SICK que contenham uma palavra específica"
   ]
  },
  {
   "cell_type": "code",
   "execution_count": 15,
   "metadata": {
    "ExecuteTime": {
     "end_time": "2022-04-26T22:17:26.454859Z",
     "start_time": "2022-04-26T22:17:26.399419Z"
    },
    "scrolled": true
   },
   "outputs": [
    {
     "data": {
      "text/html": [
       "<div>\n",
       "<style scoped>\n",
       "    .dataframe tbody tr th:only-of-type {\n",
       "        vertical-align: middle;\n",
       "    }\n",
       "\n",
       "    .dataframe tbody tr th {\n",
       "        vertical-align: top;\n",
       "    }\n",
       "\n",
       "    .dataframe thead th {\n",
       "        text-align: right;\n",
       "    }\n",
       "</style>\n",
       "<table border=\"1\" class=\"dataframe\">\n",
       "  <thead>\n",
       "    <tr style=\"text-align: right;\">\n",
       "      <th></th>\n",
       "      <th>pair_ID</th>\n",
       "      <th>sentence_A</th>\n",
       "      <th>sentence_B</th>\n",
       "      <th>entailment_label</th>\n",
       "      <th>relatedness_score</th>\n",
       "      <th>entailment_AB</th>\n",
       "      <th>entailment_BA</th>\n",
       "      <th>sentence_A_original</th>\n",
       "      <th>sentence_B_original</th>\n",
       "      <th>sentence_A_dataset</th>\n",
       "      <th>sentence_B_dataset</th>\n",
       "      <th>SemEval_set</th>\n",
       "    </tr>\n",
       "  </thead>\n",
       "  <tbody>\n",
       "    <tr>\n",
       "      <th>1733</th>\n",
       "      <td>1754</td>\n",
       "      <td>A flute is being played in a lovely way by a girl</td>\n",
       "      <td>A flute is being played by a girl</td>\n",
       "      <td>ENTAILMENT</td>\n",
       "      <td>4.6</td>\n",
       "      <td>A_entails_B</td>\n",
       "      <td>B_neutral_A</td>\n",
       "      <td>A girl is playing a flute.</td>\n",
       "      <td>A girl is playing a flute.</td>\n",
       "      <td>SEMEVAL</td>\n",
       "      <td>SEMEVAL</td>\n",
       "      <td>TRIAL</td>\n",
       "    </tr>\n",
       "    <tr>\n",
       "      <th>1740</th>\n",
       "      <td>1761</td>\n",
       "      <td>A flute is being played in a lovely way by a girl</td>\n",
       "      <td>One woman is playing a flute</td>\n",
       "      <td>ENTAILMENT</td>\n",
       "      <td>3.7</td>\n",
       "      <td>A_entails_B</td>\n",
       "      <td>B_neutral_A</td>\n",
       "      <td>A woman is playing the flute.</td>\n",
       "      <td>A girl is playing a flute.</td>\n",
       "      <td>SEMEVAL</td>\n",
       "      <td>SEMEVAL</td>\n",
       "      <td>TEST</td>\n",
       "    </tr>\n",
       "    <tr>\n",
       "      <th>1872</th>\n",
       "      <td>1893</td>\n",
       "      <td>The guitar player loves the man passionately</td>\n",
       "      <td>A person is singing and playing the guitar</td>\n",
       "      <td>NEUTRAL</td>\n",
       "      <td>2.6</td>\n",
       "      <td>A_neutral_B</td>\n",
       "      <td>B_neutral_A</td>\n",
       "      <td>A man is playing a guitar.</td>\n",
       "      <td>A man is playing a guitar and singing.</td>\n",
       "      <td>SEMEVAL</td>\n",
       "      <td>SEMEVAL</td>\n",
       "      <td>TEST</td>\n",
       "    </tr>\n",
       "  </tbody>\n",
       "</table>\n",
       "</div>"
      ],
      "text/plain": [
       "      pair_ID                                         sentence_A                                  sentence_B entailment_label  relatedness_score entailment_AB entailment_BA            sentence_A_original                     sentence_B_original sentence_A_dataset sentence_B_dataset SemEval_set\n",
       "1733     1754  A flute is being played in a lovely way by a girl           A flute is being played by a girl       ENTAILMENT                4.6   A_entails_B   B_neutral_A     A girl is playing a flute.              A girl is playing a flute.            SEMEVAL            SEMEVAL       TRIAL\n",
       "1740     1761  A flute is being played in a lovely way by a girl                One woman is playing a flute       ENTAILMENT                3.7   A_entails_B   B_neutral_A  A woman is playing the flute.              A girl is playing a flute.            SEMEVAL            SEMEVAL        TEST\n",
       "1872     1893       The guitar player loves the man passionately  A person is singing and playing the guitar          NEUTRAL                2.6   A_neutral_B   B_neutral_A     A man is playing a guitar.  A man is playing a guitar and singing.            SEMEVAL            SEMEVAL        TEST"
      ]
     },
     "execution_count": 15,
     "metadata": {},
     "output_type": "execute_result"
    }
   ],
   "source": [
    "data_sick[data_sick['sentence_A'].str.contains(' love', case=False)]"
   ]
  },
  {
   "cell_type": "code",
   "execution_count": null,
   "metadata": {},
   "outputs": [],
   "source": []
  },
  {
   "cell_type": "markdown",
   "metadata": {},
   "source": [
    "----\n",
    "### Picking a (not so) random phrase:"
   ]
  },
  {
   "cell_type": "code",
   "execution_count": 50,
   "metadata": {},
   "outputs": [
    {
     "data": {
      "text/plain": [
       "pair_ID                                             1758\n",
       "sentence_A             There is no woman playing a flute\n",
       "sentence_B                  One woman is playing a flute\n",
       "entailment_label                           CONTRADICTION\n",
       "relatedness_score                                    3.4\n",
       "entailment_AB                            A_contradicts_B\n",
       "entailment_BA                            B_contradicts_A\n",
       "sentence_A_original        A woman is playing the flute.\n",
       "sentence_B_original        A woman is playing the flute.\n",
       "sentence_A_dataset                               SEMEVAL\n",
       "sentence_B_dataset                               SEMEVAL\n",
       "SemEval_set                                         TEST\n",
       "Name: 1737, dtype: object"
      ]
     },
     "execution_count": 50,
     "metadata": {},
     "output_type": "execute_result"
    }
   ],
   "source": [
    "picked = data_sick.loc[1737]\n",
    "picked"
   ]
  },
  {
   "cell_type": "code",
   "execution_count": 51,
   "metadata": {},
   "outputs": [],
   "source": [
    "phrase_A = picked['sentence_A']\n",
    "phrase_B = picked['sentence_B']\n",
    "phrase_entailment = picked['entailment_label']"
   ]
  },
  {
   "cell_type": "markdown",
   "metadata": {},
   "source": [
    "----\n",
    "## Análise sintática (POS - Part Of Speech)\n",
    "Com base no tutorial disposto em https://neptune.ai/blog/exploratory-data-analysis-natural-language-processing-tools.  \n",
    "\n",
    "Parts of speech (POS) tagging is a method that assigns part of speech labels to words in a sentence. There are eight main parts of speech:\n",
    "\n",
    "- Noun (NN)- Joseph, London, table, cat, teacher, pen, city\n",
    "- Verb (VB)- read, speak, run, eat, play, live, walk, have, like, are, is\n",
    "- Adjective(JJ)- beautiful, happy, sad, young, fun, three\n",
    "- Adverb(RB)- slowly, quietly, very, always, never, too, well, tomorrow\n",
    "- Preposition (IN)- at, on, in, from, with, near, between, about, under\n",
    "- Conjunction (CC)- and, or, but, because, so, yet, unless, since, if\n",
    "- Pronoun(PRP)- I, you, we, they, he, she, it, me, us, them, him, her, this\n",
    "- Interjection (INT)- Ouch! Wow! Great! Help! Oh! Hey! Hi!"
   ]
  },
  {
   "cell_type": "markdown",
   "metadata": {},
   "source": [
    "Also using Spacy library: https://spacy.io/\n",
    "> !pip install -U spacy  \n",
    "> !python -m spacy download en_core_web_sm  \n",
    "> !python -m spacy download en_core_web_lg"
   ]
  },
  {
   "cell_type": "code",
   "execution_count": 42,
   "metadata": {
    "ExecuteTime": {
     "end_time": "2022-04-28T22:38:26.997959Z",
     "start_time": "2022-04-28T22:38:25.715707Z"
    }
   },
   "outputs": [],
   "source": [
    "## Importing SpaCy library:\n",
    "import spacy\n",
    "\n",
    "# Load English tokenizer, tagger, parser and NER\n",
    "nlp = spacy.load(\"en_core_web_lg\")"
   ]
  },
  {
   "cell_type": "code",
   "execution_count": 52,
   "metadata": {},
   "outputs": [],
   "source": [
    "def pos_analysis(phrase):\n",
    "    '''Returns the PoS analysis of a given phrase, using SpaCy library.'''\n",
    "    doc = nlp(phrase)\n",
    "    pos = [(token.text, token.pos_) for token in doc]\n",
    "    return pos\n",
    "\n",
    "def pos_visual(phrase):\n",
    "    '''Shows the PoS analysis of a given phrase, using SpaCy library.'''\n",
    "    doc = nlp(phrase)\n",
    "    spacy.displacy.render(doc, style='dep', jupyter=True, options={'distance':90})\n",
    "    return"
   ]
  },
  {
   "cell_type": "code",
   "execution_count": 53,
   "metadata": {},
   "outputs": [
    {
     "data": {
      "text/html": [
       "<span class=\"tex2jax_ignore\"><svg xmlns=\"http://www.w3.org/2000/svg\" xmlns:xlink=\"http://www.w3.org/1999/xlink\" xml:lang=\"en\" id=\"3e38273a890943adb71f0533eb0188c2-0\" class=\"displacy\" width=\"680\" height=\"227.0\" direction=\"ltr\" style=\"max-width: none; height: 227.0px; color: #000000; background: #ffffff; font-family: Arial; direction: ltr\">\n",
       "<text class=\"displacy-token\" fill=\"currentColor\" text-anchor=\"middle\" y=\"137.0\">\n",
       "    <tspan class=\"displacy-word\" fill=\"currentColor\" x=\"50\">There</tspan>\n",
       "    <tspan class=\"displacy-tag\" dy=\"2em\" fill=\"currentColor\" x=\"50\">PRON</tspan>\n",
       "</text>\n",
       "\n",
       "<text class=\"displacy-token\" fill=\"currentColor\" text-anchor=\"middle\" y=\"137.0\">\n",
       "    <tspan class=\"displacy-word\" fill=\"currentColor\" x=\"140\">is</tspan>\n",
       "    <tspan class=\"displacy-tag\" dy=\"2em\" fill=\"currentColor\" x=\"140\">VERB</tspan>\n",
       "</text>\n",
       "\n",
       "<text class=\"displacy-token\" fill=\"currentColor\" text-anchor=\"middle\" y=\"137.0\">\n",
       "    <tspan class=\"displacy-word\" fill=\"currentColor\" x=\"230\">no</tspan>\n",
       "    <tspan class=\"displacy-tag\" dy=\"2em\" fill=\"currentColor\" x=\"230\">DET</tspan>\n",
       "</text>\n",
       "\n",
       "<text class=\"displacy-token\" fill=\"currentColor\" text-anchor=\"middle\" y=\"137.0\">\n",
       "    <tspan class=\"displacy-word\" fill=\"currentColor\" x=\"320\">woman</tspan>\n",
       "    <tspan class=\"displacy-tag\" dy=\"2em\" fill=\"currentColor\" x=\"320\">NOUN</tspan>\n",
       "</text>\n",
       "\n",
       "<text class=\"displacy-token\" fill=\"currentColor\" text-anchor=\"middle\" y=\"137.0\">\n",
       "    <tspan class=\"displacy-word\" fill=\"currentColor\" x=\"410\">playing</tspan>\n",
       "    <tspan class=\"displacy-tag\" dy=\"2em\" fill=\"currentColor\" x=\"410\">VERB</tspan>\n",
       "</text>\n",
       "\n",
       "<text class=\"displacy-token\" fill=\"currentColor\" text-anchor=\"middle\" y=\"137.0\">\n",
       "    <tspan class=\"displacy-word\" fill=\"currentColor\" x=\"500\">a</tspan>\n",
       "    <tspan class=\"displacy-tag\" dy=\"2em\" fill=\"currentColor\" x=\"500\">DET</tspan>\n",
       "</text>\n",
       "\n",
       "<text class=\"displacy-token\" fill=\"currentColor\" text-anchor=\"middle\" y=\"137.0\">\n",
       "    <tspan class=\"displacy-word\" fill=\"currentColor\" x=\"590\">flute</tspan>\n",
       "    <tspan class=\"displacy-tag\" dy=\"2em\" fill=\"currentColor\" x=\"590\">NOUN</tspan>\n",
       "</text>\n",
       "\n",
       "<g class=\"displacy-arrow\">\n",
       "    <path class=\"displacy-arc\" id=\"arrow-3e38273a890943adb71f0533eb0188c2-0-0\" stroke-width=\"2px\" d=\"M70,92.0 C70,47.0 135.0,47.0 135.0,92.0\" fill=\"none\" stroke=\"currentColor\"/>\n",
       "    <text dy=\"1.25em\" style=\"font-size: 0.8em; letter-spacing: 1px\">\n",
       "        <textPath xlink:href=\"#arrow-3e38273a890943adb71f0533eb0188c2-0-0\" class=\"displacy-label\" startOffset=\"50%\" side=\"left\" fill=\"currentColor\" text-anchor=\"middle\">expl</textPath>\n",
       "    </text>\n",
       "    <path class=\"displacy-arrowhead\" d=\"M70,94.0 L62,82.0 78,82.0\" fill=\"currentColor\"/>\n",
       "</g>\n",
       "\n",
       "<g class=\"displacy-arrow\">\n",
       "    <path class=\"displacy-arc\" id=\"arrow-3e38273a890943adb71f0533eb0188c2-0-1\" stroke-width=\"2px\" d=\"M250,92.0 C250,47.0 315.0,47.0 315.0,92.0\" fill=\"none\" stroke=\"currentColor\"/>\n",
       "    <text dy=\"1.25em\" style=\"font-size: 0.8em; letter-spacing: 1px\">\n",
       "        <textPath xlink:href=\"#arrow-3e38273a890943adb71f0533eb0188c2-0-1\" class=\"displacy-label\" startOffset=\"50%\" side=\"left\" fill=\"currentColor\" text-anchor=\"middle\">det</textPath>\n",
       "    </text>\n",
       "    <path class=\"displacy-arrowhead\" d=\"M250,94.0 L242,82.0 258,82.0\" fill=\"currentColor\"/>\n",
       "</g>\n",
       "\n",
       "<g class=\"displacy-arrow\">\n",
       "    <path class=\"displacy-arc\" id=\"arrow-3e38273a890943adb71f0533eb0188c2-0-2\" stroke-width=\"2px\" d=\"M160,92.0 C160,2.0 320.0,2.0 320.0,92.0\" fill=\"none\" stroke=\"currentColor\"/>\n",
       "    <text dy=\"1.25em\" style=\"font-size: 0.8em; letter-spacing: 1px\">\n",
       "        <textPath xlink:href=\"#arrow-3e38273a890943adb71f0533eb0188c2-0-2\" class=\"displacy-label\" startOffset=\"50%\" side=\"left\" fill=\"currentColor\" text-anchor=\"middle\">attr</textPath>\n",
       "    </text>\n",
       "    <path class=\"displacy-arrowhead\" d=\"M320.0,94.0 L328.0,82.0 312.0,82.0\" fill=\"currentColor\"/>\n",
       "</g>\n",
       "\n",
       "<g class=\"displacy-arrow\">\n",
       "    <path class=\"displacy-arc\" id=\"arrow-3e38273a890943adb71f0533eb0188c2-0-3\" stroke-width=\"2px\" d=\"M340,92.0 C340,47.0 405.0,47.0 405.0,92.0\" fill=\"none\" stroke=\"currentColor\"/>\n",
       "    <text dy=\"1.25em\" style=\"font-size: 0.8em; letter-spacing: 1px\">\n",
       "        <textPath xlink:href=\"#arrow-3e38273a890943adb71f0533eb0188c2-0-3\" class=\"displacy-label\" startOffset=\"50%\" side=\"left\" fill=\"currentColor\" text-anchor=\"middle\">acl</textPath>\n",
       "    </text>\n",
       "    <path class=\"displacy-arrowhead\" d=\"M405.0,94.0 L413.0,82.0 397.0,82.0\" fill=\"currentColor\"/>\n",
       "</g>\n",
       "\n",
       "<g class=\"displacy-arrow\">\n",
       "    <path class=\"displacy-arc\" id=\"arrow-3e38273a890943adb71f0533eb0188c2-0-4\" stroke-width=\"2px\" d=\"M520,92.0 C520,47.0 585.0,47.0 585.0,92.0\" fill=\"none\" stroke=\"currentColor\"/>\n",
       "    <text dy=\"1.25em\" style=\"font-size: 0.8em; letter-spacing: 1px\">\n",
       "        <textPath xlink:href=\"#arrow-3e38273a890943adb71f0533eb0188c2-0-4\" class=\"displacy-label\" startOffset=\"50%\" side=\"left\" fill=\"currentColor\" text-anchor=\"middle\">det</textPath>\n",
       "    </text>\n",
       "    <path class=\"displacy-arrowhead\" d=\"M520,94.0 L512,82.0 528,82.0\" fill=\"currentColor\"/>\n",
       "</g>\n",
       "\n",
       "<g class=\"displacy-arrow\">\n",
       "    <path class=\"displacy-arc\" id=\"arrow-3e38273a890943adb71f0533eb0188c2-0-5\" stroke-width=\"2px\" d=\"M430,92.0 C430,2.0 590.0,2.0 590.0,92.0\" fill=\"none\" stroke=\"currentColor\"/>\n",
       "    <text dy=\"1.25em\" style=\"font-size: 0.8em; letter-spacing: 1px\">\n",
       "        <textPath xlink:href=\"#arrow-3e38273a890943adb71f0533eb0188c2-0-5\" class=\"displacy-label\" startOffset=\"50%\" side=\"left\" fill=\"currentColor\" text-anchor=\"middle\">dobj</textPath>\n",
       "    </text>\n",
       "    <path class=\"displacy-arrowhead\" d=\"M590.0,94.0 L598.0,82.0 582.0,82.0\" fill=\"currentColor\"/>\n",
       "</g>\n",
       "</svg></span>"
      ],
      "text/plain": [
       "<IPython.core.display.HTML object>"
      ]
     },
     "metadata": {},
     "output_type": "display_data"
    }
   ],
   "source": [
    "pos_visual(phrase_A)"
   ]
  },
  {
   "cell_type": "markdown",
   "metadata": {},
   "source": [
    "-----"
   ]
  },
  {
   "cell_type": "markdown",
   "metadata": {},
   "source": [
    "### PoS Analysis through NLTK library"
   ]
  },
  {
   "cell_type": "code",
   "execution_count": 54,
   "metadata": {
    "ExecuteTime": {
     "end_time": "2022-04-27T01:47:00.867872Z",
     "start_time": "2022-04-27T01:47:00.859946Z"
    }
   },
   "outputs": [],
   "source": [
    "import nltk\n",
    "from nltk import word_tokenize"
   ]
  },
  {
   "cell_type": "code",
   "execution_count": 55,
   "metadata": {
    "ExecuteTime": {
     "end_time": "2022-04-27T01:49:46.587536Z",
     "start_time": "2022-04-27T01:49:46.133777Z"
    }
   },
   "outputs": [
    {
     "name": "stderr",
     "output_type": "stream",
     "text": [
      "[nltk_data] Downloading package punkt to\n",
      "[nltk_data]     C:\\Users\\tiago\\AppData\\Roaming\\nltk_data...\n",
      "[nltk_data]   Package punkt is already up-to-date!\n",
      "[nltk_data] Downloading package averaged_perceptron_tagger to\n",
      "[nltk_data]     C:\\Users\\tiago\\AppData\\Roaming\\nltk_data...\n",
      "[nltk_data]   Package averaged_perceptron_tagger is already up-to-\n",
      "[nltk_data]       date!\n"
     ]
    },
    {
     "data": {
      "text/plain": [
       "True"
      ]
     },
     "execution_count": 55,
     "metadata": {},
     "output_type": "execute_result"
    }
   ],
   "source": [
    "nltk.download('punkt')\n",
    "nltk.download('averaged_perceptron_tagger')"
   ]
  },
  {
   "cell_type": "code",
   "execution_count": 56,
   "metadata": {
    "ExecuteTime": {
     "end_time": "2022-04-27T01:49:51.197585Z",
     "start_time": "2022-04-27T01:49:51.064402Z"
    }
   },
   "outputs": [
    {
     "data": {
      "text/plain": [
       "[('There', 'EX'),\n",
       " ('is', 'VBZ'),\n",
       " ('no', 'DT'),\n",
       " ('woman', 'NN'),\n",
       " ('playing', 'VBG'),\n",
       " ('a', 'DT'),\n",
       " ('flute', 'NN')]"
      ]
     },
     "execution_count": 56,
     "metadata": {},
     "output_type": "execute_result"
    }
   ],
   "source": [
    "tokens=word_tokenize(phrase_A)\n",
    "nltk.pos_tag(tokens)"
   ]
  },
  {
   "cell_type": "markdown",
   "metadata": {},
   "source": [
    "> Both POS analysis of phrase A are equivalent."
   ]
  },
  {
   "cell_type": "markdown",
   "metadata": {},
   "source": [
    "---\n",
    "### Trying SpaCy similarity modules:\n",
    "In this Section, similarity is calculated through the average of all terms in a given phrase. In this approach, stopping words penalty the result. "
   ]
  },
  {
   "cell_type": "code",
   "execution_count": 61,
   "metadata": {},
   "outputs": [],
   "source": [
    "doc1 = nlp(\"I like salty fries and hamburgers.\")\n",
    "doc2 = nlp(\"Fast food tastes very good.\")"
   ]
  },
  {
   "cell_type": "code",
   "execution_count": 62,
   "metadata": {},
   "outputs": [
    {
     "name": "stdout",
     "output_type": "stream",
     "text": [
      "I like salty fries and hamburgers. <-> Fast food tastes very good. 0.6871286202797843\n"
     ]
    }
   ],
   "source": [
    "# Similarity of two documents\n",
    "print(doc1, \"<->\", doc2, doc1.similarity(doc2))"
   ]
  },
  {
   "cell_type": "code",
   "execution_count": 63,
   "metadata": {},
   "outputs": [
    {
     "name": "stdout",
     "output_type": "stream",
     "text": [
      "salty fries <-> hamburgers 0.6901010870933533\n"
     ]
    }
   ],
   "source": [
    "# Similarity of tokens and spans\n",
    "french_fries = doc1[2:4]\n",
    "burgers = doc1[5]\n",
    "print(french_fries, \"<->\", burgers, french_fries.similarity(burgers))"
   ]
  },
  {
   "cell_type": "code",
   "execution_count": 64,
   "metadata": {},
   "outputs": [
    {
     "data": {
      "text/plain": [
       "0.9504706708543073"
      ]
     },
     "execution_count": 64,
     "metadata": {},
     "output_type": "execute_result"
    }
   ],
   "source": [
    "nlp('I never loved this song!').similarity(nlp('I loved this music!'))"
   ]
  },
  {
   "cell_type": "code",
   "execution_count": null,
   "metadata": {},
   "outputs": [],
   "source": []
  },
  {
   "cell_type": "markdown",
   "metadata": {},
   "source": [
    "### \"Universal Sentence Encoder\" by Martino Mensio "
   ]
  },
  {
   "cell_type": "code",
   "execution_count": 66,
   "metadata": {},
   "outputs": [],
   "source": [
    "import spacy_universal_sentence_encoder"
   ]
  },
  {
   "cell_type": "code",
   "execution_count": 67,
   "metadata": {},
   "outputs": [
    {
     "name": "stdout",
     "output_type": "stream",
     "text": [
      "WARNING:tensorflow:From c:\\Users\\tiago\\OneDrive - UNIVALI\\PhD\\atividades de pesquisa\\semantic_similarity\\.venv\\Lib\\site-packages\\tensorflow_hub\\resolver.py:120: The name tf.gfile.MakeDirs is deprecated. Please use tf.io.gfile.makedirs instead.\n",
      "\n"
     ]
    },
    {
     "name": "stderr",
     "output_type": "stream",
     "text": [
      "WARNING:tensorflow:From c:\\Users\\tiago\\OneDrive - UNIVALI\\PhD\\atividades de pesquisa\\semantic_similarity\\.venv\\Lib\\site-packages\\tensorflow_hub\\resolver.py:120: The name tf.gfile.MakeDirs is deprecated. Please use tf.io.gfile.makedirs instead.\n",
      "\n"
     ]
    },
    {
     "name": "stdout",
     "output_type": "stream",
     "text": [
      "WARNING:tensorflow:From c:\\Users\\tiago\\OneDrive - UNIVALI\\PhD\\atividades de pesquisa\\semantic_similarity\\.venv\\Lib\\site-packages\\tensorflow_hub\\module_v2.py:126: The name tf.saved_model.load_v2 is deprecated. Please use tf.compat.v2.saved_model.load instead.\n",
      "\n"
     ]
    },
    {
     "name": "stderr",
     "output_type": "stream",
     "text": [
      "WARNING:tensorflow:From c:\\Users\\tiago\\OneDrive - UNIVALI\\PhD\\atividades de pesquisa\\semantic_similarity\\.venv\\Lib\\site-packages\\tensorflow_hub\\module_v2.py:126: The name tf.saved_model.load_v2 is deprecated. Please use tf.compat.v2.saved_model.load instead.\n",
      "\n"
     ]
    }
   ],
   "source": [
    "nlp_universal = spacy_universal_sentence_encoder.load_model('en_use_md')"
   ]
  },
  {
   "cell_type": "markdown",
   "metadata": {},
   "source": [
    "### Comparing semantic similarity calcuation:\n",
    "> Standard NLP encoder from SpaCy;  \n",
    "> Universal Sentence Encoder model (Martino Mensio)\n",
    "\n",
    "Compare with this result: https://medium.com/@tanner.overcash/semantic-similarity-calculations-using-nlp-and-python-a-soft-introduction-1f31df965e40"
   ]
  },
  {
   "cell_type": "code",
   "execution_count": 79,
   "metadata": {},
   "outputs": [
    {
     "name": "stdout",
     "output_type": "stream",
     "text": [
      "Phrase 1: I love this music.\n",
      "Phrase 2: This music is great!\n",
      "\n",
      "      Standard similarity: 0.57\n",
      "      Universal similarity: 0.88\n"
     ]
    }
   ],
   "source": [
    "## Evaluating the similarity between two phrases through the standard NLP model from SpaCy:\n",
    "phrase1 = 'I love this music.'\n",
    "phrase2 = 'This music is great!'\n",
    "\n",
    "print(f'Phrase 1: {phrase1}\\nPhrase 2: {phrase2}\\n\\n\\\n",
    "      Standard similarity: {nlp(phrase1).similarity(nlp(phrase2)):.2f}\\n\\\n",
    "      Universal similarity: {nlp_universal(phrase1).similarity(nlp_universal(phrase2)):.2f}')"
   ]
  },
  {
   "cell_type": "code",
   "execution_count": 80,
   "metadata": {},
   "outputs": [],
   "source": [
    "## Writing the previous analysis as a function:\n",
    "def eval_similarity(phrase1, phrase2):\n",
    "    '''Evaluates the similarity between two phrases through the Standard and Universal NLP models from SpaCy.'''\n",
    "    print(f'Phrase 1: {phrase1}\\nPhrase 2: {phrase2}\\n\\n\\\n",
    "          Standard similarity: {nlp(phrase1).similarity(nlp(phrase2)):.2f}\\n\\\n",
    "          Universal similarity: {nlp_universal(phrase1).similarity(nlp_universal(phrase2)):.2f}')\n",
    "    return"
   ]
  },
  {
   "cell_type": "code",
   "execution_count": 81,
   "metadata": {},
   "outputs": [
    {
     "name": "stdout",
     "output_type": "stream",
     "text": [
      "Phrase 1: I love this music.\n",
      "Phrase 2: This music is great!\n",
      "\n",
      "          Standard similarity: 0.57\n",
      "          Universal similarity: 0.88\n"
     ]
    }
   ],
   "source": [
    "eval_similarity('I love this music.', 'This music is great!')"
   ]
  },
  {
   "cell_type": "code",
   "execution_count": 82,
   "metadata": {},
   "outputs": [
    {
     "name": "stdout",
     "output_type": "stream",
     "text": [
      "Phrase 1: I hear this music!\n",
      "Phrase 2: I sing this music!\n",
      "\n",
      "          Standard similarity: 0.96\n",
      "          Universal similarity: 0.66\n"
     ]
    }
   ],
   "source": [
    "eval_similarity('I hear this music!', 'I sing this music!')"
   ]
  },
  {
   "cell_type": "code",
   "execution_count": null,
   "metadata": {},
   "outputs": [],
   "source": []
  },
  {
   "cell_type": "code",
   "execution_count": null,
   "metadata": {},
   "outputs": [],
   "source": []
  },
  {
   "cell_type": "code",
   "execution_count": null,
   "metadata": {},
   "outputs": [],
   "source": []
  },
  {
   "cell_type": "markdown",
   "metadata": {},
   "source": [
    "---\n",
    "## 2022.04.28 - Discussão com Andrei\n",
    "\n",
    "### Qual é o problema? \n",
    "- Queremos medir a similaridade de duas coisas.\n",
    "- Se a métrica utilizada, o valor for o mesmo, podemos presumir que o significado pode ser semelhante.  \n",
    "\n",
    "#### Semantica:\n",
    "- Objetiva: sintática (Spacy)\n",
    "- Subjetiva: ... psicometria. (como foi determinado o ACF??)\n",
    "\n",
    "#### **Objetivo:** questionamentos do Andrei\n",
    "\n",
    "- Conseguimos avaliar os atributos (ACF) de uma sentença??\n",
    "    - Supondo que consigo avaliá-los, o que é possível extrair deles? \n",
    "    - É relevante?? Qual é a interpretabilidade da métrica? \n",
    "        - Por que essa sentença é mais próxima da outra?\n",
    "\n",
    "- Ou conseguimos extrair features das frases a partir dos atributos (ACF)?"
   ]
  },
  {
   "cell_type": "markdown",
   "metadata": {},
   "source": [
    "### Segundo experimento:\n",
    "Faltou no The Glasgow Norm alguma palavra ou verbo... Como a gente conseguiria contornar essa situação? \n",
    "\n",
    "1. Utilizar um word embedding para achar o termo mais próximo àquele que não foi encontrado e aí utilizar por referência...  \n",
    "\n",
    "2. (Com a premissa de que funcionaria o word embedding) Seria possível expandir o \"Glasgow Norm\" para um número maior de termos?  "
   ]
  },
  {
   "cell_type": "markdown",
   "metadata": {},
   "source": [
    "https://colab.research.google.com/github/bentrevett/pytorch-sentiment-analysis/blob/master/B%20-%20A%20Closer%20Look%20at%20Word%20Embeddings.ipynb  \n",
    "\n",
    "word_vector = get_vector(glove, 'india')\n",
    "\n",
    "closest_words(glove, word_vector)"
   ]
  },
  {
   "cell_type": "code",
   "execution_count": null,
   "metadata": {},
   "outputs": [],
   "source": []
  },
  {
   "cell_type": "markdown",
   "metadata": {},
   "source": [
    "### The cat:"
   ]
  },
  {
   "cell_type": "markdown",
   "metadata": {},
   "source": [
    "- A cat is chasing a dog\n",
    "- A cat chases a dog\n",
    "- A cat is chasing around a german shepherd dog more than twice its size\n",
    "- A cat is scaring away a dog\n",
    "- A cat chases a large dog around the yard\n",
    "- ERRADA: A dog is chasing a cat\n",
    "- CERTA: A cat is running after a dog\n"
   ]
  },
  {
   "cell_type": "code",
   "execution_count": null,
   "metadata": {},
   "outputs": [],
   "source": [
    "p1 = 'a cat is chasing a dog'\n",
    "p2 = 'A dog is chasing a cat'\n",
    "p3 = 'A cat is running after a dog'"
   ]
  },
  {
   "cell_type": "code",
   "execution_count": null,
   "metadata": {},
   "outputs": [
    {
     "data": {
      "text/html": [
       "<span class=\"tex2jax_ignore\"><svg xmlns=\"http://www.w3.org/2000/svg\" xmlns:xlink=\"http://www.w3.org/1999/xlink\" xml:lang=\"en\" id=\"546791e723cf4f9d8493a8ed802436c6-0\" class=\"displacy\" width=\"590\" height=\"227.0\" direction=\"ltr\" style=\"max-width: none; height: 227.0px; color: #000000; background: #ffffff; font-family: Arial; direction: ltr\">\n",
       "<text class=\"displacy-token\" fill=\"currentColor\" text-anchor=\"middle\" y=\"137.0\">\n",
       "    <tspan class=\"displacy-word\" fill=\"currentColor\" x=\"50\">a</tspan>\n",
       "    <tspan class=\"displacy-tag\" dy=\"2em\" fill=\"currentColor\" x=\"50\">DET</tspan>\n",
       "</text>\n",
       "\n",
       "<text class=\"displacy-token\" fill=\"currentColor\" text-anchor=\"middle\" y=\"137.0\">\n",
       "    <tspan class=\"displacy-word\" fill=\"currentColor\" x=\"140\">cat</tspan>\n",
       "    <tspan class=\"displacy-tag\" dy=\"2em\" fill=\"currentColor\" x=\"140\">NOUN</tspan>\n",
       "</text>\n",
       "\n",
       "<text class=\"displacy-token\" fill=\"currentColor\" text-anchor=\"middle\" y=\"137.0\">\n",
       "    <tspan class=\"displacy-word\" fill=\"currentColor\" x=\"230\">is</tspan>\n",
       "    <tspan class=\"displacy-tag\" dy=\"2em\" fill=\"currentColor\" x=\"230\">AUX</tspan>\n",
       "</text>\n",
       "\n",
       "<text class=\"displacy-token\" fill=\"currentColor\" text-anchor=\"middle\" y=\"137.0\">\n",
       "    <tspan class=\"displacy-word\" fill=\"currentColor\" x=\"320\">chasing</tspan>\n",
       "    <tspan class=\"displacy-tag\" dy=\"2em\" fill=\"currentColor\" x=\"320\">VERB</tspan>\n",
       "</text>\n",
       "\n",
       "<text class=\"displacy-token\" fill=\"currentColor\" text-anchor=\"middle\" y=\"137.0\">\n",
       "    <tspan class=\"displacy-word\" fill=\"currentColor\" x=\"410\">a</tspan>\n",
       "    <tspan class=\"displacy-tag\" dy=\"2em\" fill=\"currentColor\" x=\"410\">DET</tspan>\n",
       "</text>\n",
       "\n",
       "<text class=\"displacy-token\" fill=\"currentColor\" text-anchor=\"middle\" y=\"137.0\">\n",
       "    <tspan class=\"displacy-word\" fill=\"currentColor\" x=\"500\">dog</tspan>\n",
       "    <tspan class=\"displacy-tag\" dy=\"2em\" fill=\"currentColor\" x=\"500\">NOUN</tspan>\n",
       "</text>\n",
       "\n",
       "<g class=\"displacy-arrow\">\n",
       "    <path class=\"displacy-arc\" id=\"arrow-546791e723cf4f9d8493a8ed802436c6-0-0\" stroke-width=\"2px\" d=\"M70,92.0 C70,47.0 135.0,47.0 135.0,92.0\" fill=\"none\" stroke=\"currentColor\"/>\n",
       "    <text dy=\"1.25em\" style=\"font-size: 0.8em; letter-spacing: 1px\">\n",
       "        <textPath xlink:href=\"#arrow-546791e723cf4f9d8493a8ed802436c6-0-0\" class=\"displacy-label\" startOffset=\"50%\" side=\"left\" fill=\"currentColor\" text-anchor=\"middle\">det</textPath>\n",
       "    </text>\n",
       "    <path class=\"displacy-arrowhead\" d=\"M70,94.0 L62,82.0 78,82.0\" fill=\"currentColor\"/>\n",
       "</g>\n",
       "\n",
       "<g class=\"displacy-arrow\">\n",
       "    <path class=\"displacy-arc\" id=\"arrow-546791e723cf4f9d8493a8ed802436c6-0-1\" stroke-width=\"2px\" d=\"M160,92.0 C160,2.0 320.0,2.0 320.0,92.0\" fill=\"none\" stroke=\"currentColor\"/>\n",
       "    <text dy=\"1.25em\" style=\"font-size: 0.8em; letter-spacing: 1px\">\n",
       "        <textPath xlink:href=\"#arrow-546791e723cf4f9d8493a8ed802436c6-0-1\" class=\"displacy-label\" startOffset=\"50%\" side=\"left\" fill=\"currentColor\" text-anchor=\"middle\">nsubj</textPath>\n",
       "    </text>\n",
       "    <path class=\"displacy-arrowhead\" d=\"M160,94.0 L152,82.0 168,82.0\" fill=\"currentColor\"/>\n",
       "</g>\n",
       "\n",
       "<g class=\"displacy-arrow\">\n",
       "    <path class=\"displacy-arc\" id=\"arrow-546791e723cf4f9d8493a8ed802436c6-0-2\" stroke-width=\"2px\" d=\"M250,92.0 C250,47.0 315.0,47.0 315.0,92.0\" fill=\"none\" stroke=\"currentColor\"/>\n",
       "    <text dy=\"1.25em\" style=\"font-size: 0.8em; letter-spacing: 1px\">\n",
       "        <textPath xlink:href=\"#arrow-546791e723cf4f9d8493a8ed802436c6-0-2\" class=\"displacy-label\" startOffset=\"50%\" side=\"left\" fill=\"currentColor\" text-anchor=\"middle\">aux</textPath>\n",
       "    </text>\n",
       "    <path class=\"displacy-arrowhead\" d=\"M250,94.0 L242,82.0 258,82.0\" fill=\"currentColor\"/>\n",
       "</g>\n",
       "\n",
       "<g class=\"displacy-arrow\">\n",
       "    <path class=\"displacy-arc\" id=\"arrow-546791e723cf4f9d8493a8ed802436c6-0-3\" stroke-width=\"2px\" d=\"M430,92.0 C430,47.0 495.0,47.0 495.0,92.0\" fill=\"none\" stroke=\"currentColor\"/>\n",
       "    <text dy=\"1.25em\" style=\"font-size: 0.8em; letter-spacing: 1px\">\n",
       "        <textPath xlink:href=\"#arrow-546791e723cf4f9d8493a8ed802436c6-0-3\" class=\"displacy-label\" startOffset=\"50%\" side=\"left\" fill=\"currentColor\" text-anchor=\"middle\">det</textPath>\n",
       "    </text>\n",
       "    <path class=\"displacy-arrowhead\" d=\"M430,94.0 L422,82.0 438,82.0\" fill=\"currentColor\"/>\n",
       "</g>\n",
       "\n",
       "<g class=\"displacy-arrow\">\n",
       "    <path class=\"displacy-arc\" id=\"arrow-546791e723cf4f9d8493a8ed802436c6-0-4\" stroke-width=\"2px\" d=\"M340,92.0 C340,2.0 500.0,2.0 500.0,92.0\" fill=\"none\" stroke=\"currentColor\"/>\n",
       "    <text dy=\"1.25em\" style=\"font-size: 0.8em; letter-spacing: 1px\">\n",
       "        <textPath xlink:href=\"#arrow-546791e723cf4f9d8493a8ed802436c6-0-4\" class=\"displacy-label\" startOffset=\"50%\" side=\"left\" fill=\"currentColor\" text-anchor=\"middle\">dobj</textPath>\n",
       "    </text>\n",
       "    <path class=\"displacy-arrowhead\" d=\"M500.0,94.0 L508.0,82.0 492.0,82.0\" fill=\"currentColor\"/>\n",
       "</g>\n",
       "</svg></span>"
      ],
      "text/plain": [
       "<IPython.core.display.HTML object>"
      ]
     },
     "metadata": {},
     "output_type": "display_data"
    }
   ],
   "source": [
    "doc = nlp(p1)\n",
    "spacy.displacy.render(doc, style='dep', jupyter=True, options={'distance':90})"
   ]
  },
  {
   "cell_type": "code",
   "execution_count": null,
   "metadata": {},
   "outputs": [
    {
     "data": {
      "text/html": [
       "<span class=\"tex2jax_ignore\"><svg xmlns=\"http://www.w3.org/2000/svg\" xmlns:xlink=\"http://www.w3.org/1999/xlink\" xml:lang=\"en\" id=\"4b3957dc034e49d096ac45c9f15aa0c6-0\" class=\"displacy\" width=\"680\" height=\"227.0\" direction=\"ltr\" style=\"max-width: none; height: 227.0px; color: #000000; background: #ffffff; font-family: Arial; direction: ltr\">\n",
       "<text class=\"displacy-token\" fill=\"currentColor\" text-anchor=\"middle\" y=\"137.0\">\n",
       "    <tspan class=\"displacy-word\" fill=\"currentColor\" x=\"50\">A</tspan>\n",
       "    <tspan class=\"displacy-tag\" dy=\"2em\" fill=\"currentColor\" x=\"50\">DET</tspan>\n",
       "</text>\n",
       "\n",
       "<text class=\"displacy-token\" fill=\"currentColor\" text-anchor=\"middle\" y=\"137.0\">\n",
       "    <tspan class=\"displacy-word\" fill=\"currentColor\" x=\"140\">cat</tspan>\n",
       "    <tspan class=\"displacy-tag\" dy=\"2em\" fill=\"currentColor\" x=\"140\">NOUN</tspan>\n",
       "</text>\n",
       "\n",
       "<text class=\"displacy-token\" fill=\"currentColor\" text-anchor=\"middle\" y=\"137.0\">\n",
       "    <tspan class=\"displacy-word\" fill=\"currentColor\" x=\"230\">is</tspan>\n",
       "    <tspan class=\"displacy-tag\" dy=\"2em\" fill=\"currentColor\" x=\"230\">AUX</tspan>\n",
       "</text>\n",
       "\n",
       "<text class=\"displacy-token\" fill=\"currentColor\" text-anchor=\"middle\" y=\"137.0\">\n",
       "    <tspan class=\"displacy-word\" fill=\"currentColor\" x=\"320\">running</tspan>\n",
       "    <tspan class=\"displacy-tag\" dy=\"2em\" fill=\"currentColor\" x=\"320\">VERB</tspan>\n",
       "</text>\n",
       "\n",
       "<text class=\"displacy-token\" fill=\"currentColor\" text-anchor=\"middle\" y=\"137.0\">\n",
       "    <tspan class=\"displacy-word\" fill=\"currentColor\" x=\"410\">after</tspan>\n",
       "    <tspan class=\"displacy-tag\" dy=\"2em\" fill=\"currentColor\" x=\"410\">ADP</tspan>\n",
       "</text>\n",
       "\n",
       "<text class=\"displacy-token\" fill=\"currentColor\" text-anchor=\"middle\" y=\"137.0\">\n",
       "    <tspan class=\"displacy-word\" fill=\"currentColor\" x=\"500\">a</tspan>\n",
       "    <tspan class=\"displacy-tag\" dy=\"2em\" fill=\"currentColor\" x=\"500\">DET</tspan>\n",
       "</text>\n",
       "\n",
       "<text class=\"displacy-token\" fill=\"currentColor\" text-anchor=\"middle\" y=\"137.0\">\n",
       "    <tspan class=\"displacy-word\" fill=\"currentColor\" x=\"590\">dog</tspan>\n",
       "    <tspan class=\"displacy-tag\" dy=\"2em\" fill=\"currentColor\" x=\"590\">NOUN</tspan>\n",
       "</text>\n",
       "\n",
       "<g class=\"displacy-arrow\">\n",
       "    <path class=\"displacy-arc\" id=\"arrow-4b3957dc034e49d096ac45c9f15aa0c6-0-0\" stroke-width=\"2px\" d=\"M70,92.0 C70,47.0 135.0,47.0 135.0,92.0\" fill=\"none\" stroke=\"currentColor\"/>\n",
       "    <text dy=\"1.25em\" style=\"font-size: 0.8em; letter-spacing: 1px\">\n",
       "        <textPath xlink:href=\"#arrow-4b3957dc034e49d096ac45c9f15aa0c6-0-0\" class=\"displacy-label\" startOffset=\"50%\" side=\"left\" fill=\"currentColor\" text-anchor=\"middle\">det</textPath>\n",
       "    </text>\n",
       "    <path class=\"displacy-arrowhead\" d=\"M70,94.0 L62,82.0 78,82.0\" fill=\"currentColor\"/>\n",
       "</g>\n",
       "\n",
       "<g class=\"displacy-arrow\">\n",
       "    <path class=\"displacy-arc\" id=\"arrow-4b3957dc034e49d096ac45c9f15aa0c6-0-1\" stroke-width=\"2px\" d=\"M160,92.0 C160,2.0 320.0,2.0 320.0,92.0\" fill=\"none\" stroke=\"currentColor\"/>\n",
       "    <text dy=\"1.25em\" style=\"font-size: 0.8em; letter-spacing: 1px\">\n",
       "        <textPath xlink:href=\"#arrow-4b3957dc034e49d096ac45c9f15aa0c6-0-1\" class=\"displacy-label\" startOffset=\"50%\" side=\"left\" fill=\"currentColor\" text-anchor=\"middle\">nsubj</textPath>\n",
       "    </text>\n",
       "    <path class=\"displacy-arrowhead\" d=\"M160,94.0 L152,82.0 168,82.0\" fill=\"currentColor\"/>\n",
       "</g>\n",
       "\n",
       "<g class=\"displacy-arrow\">\n",
       "    <path class=\"displacy-arc\" id=\"arrow-4b3957dc034e49d096ac45c9f15aa0c6-0-2\" stroke-width=\"2px\" d=\"M250,92.0 C250,47.0 315.0,47.0 315.0,92.0\" fill=\"none\" stroke=\"currentColor\"/>\n",
       "    <text dy=\"1.25em\" style=\"font-size: 0.8em; letter-spacing: 1px\">\n",
       "        <textPath xlink:href=\"#arrow-4b3957dc034e49d096ac45c9f15aa0c6-0-2\" class=\"displacy-label\" startOffset=\"50%\" side=\"left\" fill=\"currentColor\" text-anchor=\"middle\">aux</textPath>\n",
       "    </text>\n",
       "    <path class=\"displacy-arrowhead\" d=\"M250,94.0 L242,82.0 258,82.0\" fill=\"currentColor\"/>\n",
       "</g>\n",
       "\n",
       "<g class=\"displacy-arrow\">\n",
       "    <path class=\"displacy-arc\" id=\"arrow-4b3957dc034e49d096ac45c9f15aa0c6-0-3\" stroke-width=\"2px\" d=\"M340,92.0 C340,47.0 405.0,47.0 405.0,92.0\" fill=\"none\" stroke=\"currentColor\"/>\n",
       "    <text dy=\"1.25em\" style=\"font-size: 0.8em; letter-spacing: 1px\">\n",
       "        <textPath xlink:href=\"#arrow-4b3957dc034e49d096ac45c9f15aa0c6-0-3\" class=\"displacy-label\" startOffset=\"50%\" side=\"left\" fill=\"currentColor\" text-anchor=\"middle\">prep</textPath>\n",
       "    </text>\n",
       "    <path class=\"displacy-arrowhead\" d=\"M405.0,94.0 L413.0,82.0 397.0,82.0\" fill=\"currentColor\"/>\n",
       "</g>\n",
       "\n",
       "<g class=\"displacy-arrow\">\n",
       "    <path class=\"displacy-arc\" id=\"arrow-4b3957dc034e49d096ac45c9f15aa0c6-0-4\" stroke-width=\"2px\" d=\"M520,92.0 C520,47.0 585.0,47.0 585.0,92.0\" fill=\"none\" stroke=\"currentColor\"/>\n",
       "    <text dy=\"1.25em\" style=\"font-size: 0.8em; letter-spacing: 1px\">\n",
       "        <textPath xlink:href=\"#arrow-4b3957dc034e49d096ac45c9f15aa0c6-0-4\" class=\"displacy-label\" startOffset=\"50%\" side=\"left\" fill=\"currentColor\" text-anchor=\"middle\">det</textPath>\n",
       "    </text>\n",
       "    <path class=\"displacy-arrowhead\" d=\"M520,94.0 L512,82.0 528,82.0\" fill=\"currentColor\"/>\n",
       "</g>\n",
       "\n",
       "<g class=\"displacy-arrow\">\n",
       "    <path class=\"displacy-arc\" id=\"arrow-4b3957dc034e49d096ac45c9f15aa0c6-0-5\" stroke-width=\"2px\" d=\"M430,92.0 C430,2.0 590.0,2.0 590.0,92.0\" fill=\"none\" stroke=\"currentColor\"/>\n",
       "    <text dy=\"1.25em\" style=\"font-size: 0.8em; letter-spacing: 1px\">\n",
       "        <textPath xlink:href=\"#arrow-4b3957dc034e49d096ac45c9f15aa0c6-0-5\" class=\"displacy-label\" startOffset=\"50%\" side=\"left\" fill=\"currentColor\" text-anchor=\"middle\">pobj</textPath>\n",
       "    </text>\n",
       "    <path class=\"displacy-arrowhead\" d=\"M590.0,94.0 L598.0,82.0 582.0,82.0\" fill=\"currentColor\"/>\n",
       "</g>\n",
       "</svg></span>"
      ],
      "text/plain": [
       "<IPython.core.display.HTML object>"
      ]
     },
     "metadata": {},
     "output_type": "display_data"
    }
   ],
   "source": [
    "doc = nlp(p3)\n",
    "spacy.displacy.render(doc, style='dep', jupyter=True, options={'distance':90})"
   ]
  },
  {
   "cell_type": "markdown",
   "metadata": {},
   "source": [
    "-> Substituir \"cat\" por \"kant\"... "
   ]
  },
  {
   "cell_type": "code",
   "execution_count": null,
   "metadata": {},
   "outputs": [],
   "source": []
  },
  {
   "cell_type": "code",
   "execution_count": null,
   "metadata": {},
   "outputs": [],
   "source": []
  },
  {
   "cell_type": "markdown",
   "metadata": {},
   "source": [
    "### Man sweeping\n",
    "\n",
    "REFERENCIAS\n",
    "\n",
    "A man sweeps the floor of a gym  \n",
    "A man sweeps the gymnasium floor with a dust broom  \n",
    "A man in a blue shirt and black trousers sweeping a gym floor  \n",
    "A man in a blue shirt is sweeping a classroom  \n",
    "A man in black pants is mopping the floor of a gym room  \n",
    "\n",
    "ERRADO: A man in a blue shirt and black pants is working out in a gym\n",
    "CERTO: A person is mopping the gym floor"
   ]
  },
  {
   "cell_type": "code",
   "execution_count": null,
   "metadata": {},
   "outputs": [],
   "source": []
  },
  {
   "cell_type": "markdown",
   "metadata": {},
   "source": [
    "### Man driving\n",
    "\n",
    "A man is driving a car  \n",
    "A man driving a car"
   ]
  },
  {
   "cell_type": "markdown",
   "metadata": {},
   "source": [
    "A person walks with thick boots through the rough ways  \n",
    "There is someone advertising some boots  \n",
    "A man is walking in the forest area  \n",
    "A person walks wearing a black trecking shore and climbed a snow mountain  \n",
    "Person is showing his new boots and their advantages  \n",
    "A pair of gray hiking boots are shown as the narrator states boots are the most important part of hiking  \n",
    "A guy is using boots to hike in the snow  \n",
    "\n",
    "ERRADA: A pair of gray hiking boots is showing the forest area\n",
    "CERTA: A pair of hiking boots are shown and then a man walks along the snowy forest"
   ]
  },
  {
   "cell_type": "code",
   "execution_count": null,
   "metadata": {},
   "outputs": [],
   "source": []
  }
 ],
 "metadata": {
  "hide_input": false,
  "kernelspec": {
   "display_name": ".venv",
   "language": "python",
   "name": "python3"
  },
  "language_info": {
   "codemirror_mode": {
    "name": "ipython",
    "version": 3
   },
   "file_extension": ".py",
   "mimetype": "text/x-python",
   "name": "python",
   "nbconvert_exporter": "python",
   "pygments_lexer": "ipython3",
   "version": "3.11.7"
  },
  "toc": {
   "base_numbering": 1,
   "nav_menu": {},
   "number_sections": true,
   "sideBar": true,
   "skip_h1_title": true,
   "title_cell": "Summary",
   "title_sidebar": "Contents",
   "toc_cell": true,
   "toc_position": {
    "height": "calc(100% - 180px)",
    "left": "10px",
    "top": "150px",
    "width": "300.15px"
   },
   "toc_section_display": true,
   "toc_window_display": false
  },
  "varInspector": {
   "cols": {
    "lenName": 16,
    "lenType": 16,
    "lenVar": 40
   },
   "kernels_config": {
    "python": {
     "delete_cmd_postfix": "",
     "delete_cmd_prefix": "del ",
     "library": "var_list.py",
     "varRefreshCmd": "print(var_dic_list())"
    },
    "r": {
     "delete_cmd_postfix": ") ",
     "delete_cmd_prefix": "rm(",
     "library": "var_list.r",
     "varRefreshCmd": "cat(var_dic_list()) "
    }
   },
   "position": {
    "height": "498.85px",
    "left": "651.8px",
    "right": "20px",
    "top": "56px",
    "width": "715px"
   },
   "types_to_exclude": [
    "module",
    "function",
    "builtin_function_or_method",
    "instance",
    "_Feature"
   ],
   "window_display": false
  }
 },
 "nbformat": 4,
 "nbformat_minor": 4
}
